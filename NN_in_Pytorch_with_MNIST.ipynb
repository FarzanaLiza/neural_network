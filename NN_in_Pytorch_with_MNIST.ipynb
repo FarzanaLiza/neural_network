{
 "cells": [
  {
   "cell_type": "markdown",
   "id": "48e464e5",
   "metadata": {},
   "source": [
    "### Preparing MNIST dataset in PyTorch\n",
    "<b> The MNIST (Modified National Institute of Standards and Technology) database<b> \n",
    "    \n",
    "The MNIST database consists of handwritten digits with 60,000 training and 10,000 testing images. It was created from NIST's original black and white image database and normalized to fit into a 28X28 pixel bounding box and anti-aliased, in a grayscale level."
   ]
  },
  {
   "cell_type": "code",
   "execution_count": 1,
   "id": "77de81b5",
   "metadata": {},
   "outputs": [],
   "source": [
    "import torch\n",
    "import torchvision\n",
    "import torchvision.transforms as transforms\n",
    "import torch.utils.data\n",
    "\n",
    "# Transform the data to torch tensors and normalize it\n",
    "torch.manual_seed(0)\n",
    "\n",
    "transform = transforms.Compose(\n",
    "    [transforms.ToTensor(), \n",
    "     transforms.Normalize((0.1307), (0.3081))]) # 0.1307 is the mean of all pixel values in MNIST \n",
    "                                                # 0.3081 is the standard deviation of all pixel values in MNIST\n",
    "\n",
    "#Read train set and test set data\n",
    "trainset = torchvision.datasets.MNIST('mnist', train= True, download = True, transform = transform)\n",
    "\n",
    "testset = torchvision.datasets.MNIST('mnist', train = False, download = True, transform = transform)\n",
    "\n",
    "#Prepare tain loader and test loader for pytorch\n",
    "train_loader = torch.utils.data.DataLoader(trainset, batch_size = 32, shuffle =True, num_workers = 0)\n",
    "\n",
    "test_loader = torch.utils.data.DataLoader(testset, batch_size = 32, shuffle = True, num_workers = 0)"
   ]
  },
  {
   "cell_type": "markdown",
   "id": "57183d4f",
   "metadata": {},
   "source": [
    "<b> Explore the dataloaders<b>"
   ]
  },
  {
   "cell_type": "code",
   "execution_count": 2,
   "id": "97a03910",
   "metadata": {},
   "outputs": [],
   "source": [
    "train_shape = train_loader.dataset.data.shape\n",
    "test_shape = test_loader.dataset.data.shape\n",
    "\n",
    "#Compute the minibatch size\n",
    "train_minibatch = train_loader.batch_size\n",
    "test_minibatch = test_loader.batch_size"
   ]
  },
  {
   "cell_type": "code",
   "execution_count": 3,
   "id": "3c4499ec",
   "metadata": {},
   "outputs": [
    {
     "name": "stdout",
     "output_type": "stream",
     "text": [
      "torch.Size([60000, 28, 28]) torch.Size([10000, 28, 28])\n"
     ]
    }
   ],
   "source": [
    "print(train_shape,\n",
    "test_shape)"
   ]
  },
  {
   "cell_type": "code",
   "execution_count": 4,
   "id": "dba311f8",
   "metadata": {},
   "outputs": [
    {
     "name": "stdout",
     "output_type": "stream",
     "text": [
      "32 32\n"
     ]
    }
   ],
   "source": [
    "print(train_minibatch, test_minibatch) "
   ]
  },
  {
   "cell_type": "markdown",
   "id": "4d74d9d7",
   "metadata": {},
   "source": [
    "### Training neural networks\n",
    "- Step 1: Build a neural network\n",
    "- Step 2: Train a neural network\n",
    "- Step 3: Use the trained neural network for predictions"
   ]
  },
  {
   "cell_type": "markdown",
   "id": "78a8059f",
   "metadata": {},
   "source": [
    "<b>Step 1: Build a neural network <b>\n",
    "- We will build a  class for a neural network to train labelling MNIST dataset.\n",
    "- The MNIST dataset contains images with shape (28, 28, 1), i.e., each image with 28 rows and 28 columns"
   ]
  },
  {
   "cell_type": "code",
   "execution_count": 5,
   "id": "d09798cb",
   "metadata": {},
   "outputs": [],
   "source": [
    "import torch.nn as nn\n",
    "import torch.nn.functional as F\n",
    "\n",
    "#Create a class called Net\n",
    "class Net(nn.Module):\n",
    "    def __init__(self):\n",
    "        \n",
    "        #Define all the parameters of the class Net\n",
    "        super(Net, self).__init__() # super is defined to use parameters from the parent class (nn.Module) class\n",
    "        self.fc1 = nn.Linear(28*28*1, 200) # One hidden layer of 200 units\n",
    "        self.fc2 = nn.Linear(200, 10) # output 10 units of layer\n",
    "        \n",
    "    def forward(self, x):\n",
    "        # Forward pass. Use relu linearity in the hidden layer.\n",
    "        x = F.relu(self.fc1(x)) \n",
    "        x = self.fc2(x)\n",
    "        return x"
   ]
  },
  {
   "cell_type": "markdown",
   "id": "ab605d49",
   "metadata": {},
   "source": [
    "<b>Step 2: Train a neural network<b>\n",
    "- Train the class (called Net) using MNIST database to predict the labels\n",
    "- Use Adam optimizer to optimize the network\n",
    "- Use cross entropy as loss function"
   ]
  },
  {
   "cell_type": "code",
   "execution_count": 6,
   "id": "bdc05148",
   "metadata": {},
   "outputs": [],
   "source": [
    "import torch.optim as optim\n",
    "\n",
    "#Instantiate net, Adam and cross entropy objects\n",
    "net = Net()\n",
    "optimizer = optim.Adam(net.parameters(), lr = 3e-4)\n",
    "criterion = nn.CrossEntropyLoss()\n",
    "\n",
    "# loop 10 times over the entire dataset\n",
    "for epoch in range(1):\n",
    "    for i, data in enumerate(train_loader, 0):\n",
    "        inputs, labels = data  \n",
    "        \n",
    "        #reading images into vectors\n",
    "        inputs = inputs.view(-1, 28*28)\n",
    "        \n",
    "        #Start with zero gradients\n",
    "        optimizer.zero_grad()\n",
    "        \n",
    "        #Forward pass\n",
    "        outputs = net(inputs) #the forward step is done using net(inputs)\n",
    "        \n",
    "        #Compute the loss gradients\n",
    "        #Calculate loss from the outputs and true labels\n",
    "        loss = criterion(outputs, labels) \n",
    "        loss.backward()\n",
    "        optimizer.step() #change the weights based on loss gradients"
   ]
  },
  {
   "cell_type": "markdown",
   "id": "53127546",
   "metadata": {},
   "source": [
    "<b>Step 3: Use the Neural network for predictions<b>\n",
    "\n",
    "- Use trained network (called net) to make predictions for the data\n",
    "- Initialize total and correct to 0"
   ]
  },
  {
   "cell_type": "code",
   "execution_count": 7,
   "id": "c07fb982",
   "metadata": {},
   "outputs": [
    {
     "name": "stdout",
     "output_type": "stream",
     "text": [
      "The test set accuracy of the network is: 95 %\n"
     ]
    }
   ],
   "source": [
    "correct, total = 0, 0\n",
    "predictions = []\n",
    "\n",
    "#Set neural network model (net) in eval mode\n",
    "net.eval()\n",
    "\n",
    "for i, data in enumerate(test_loader):\n",
    "        inputs, labels = data\n",
    "        \n",
    "        #reading images into vectors\n",
    "        inputs = inputs.view(-1, 28*28)\n",
    "        \n",
    "        outputs = net(inputs)\n",
    "        _, outputs = torch.max(outputs.data, 1)\n",
    "        total += labels.size(0)\n",
    "        correct += (outputs == labels).sum().item()\n",
    "\n",
    "print('The test set accuracy of the network is: %d %%' % (100 * correct / total)) "
   ]
  },
  {
   "cell_type": "markdown",
   "id": "5c431f64",
   "metadata": {},
   "source": [
    "### Is the trained neural network working?\n",
    "\n",
    "<b> Verify with viewing the digit in the plot and compare the values<b>"
   ]
  },
  {
   "cell_type": "code",
   "execution_count": 8,
   "id": "02a81828",
   "metadata": {},
   "outputs": [
    {
     "data": {
      "text/plain": [
       "torch.Size([16, 1, 28, 28])"
      ]
     },
     "execution_count": 8,
     "metadata": {},
     "output_type": "execute_result"
    }
   ],
   "source": [
    "# Create matrix again to pass it through the plot function\n",
    "inputs, labels = data\n",
    "inputs.shape"
   ]
  },
  {
   "cell_type": "code",
   "execution_count": 19,
   "id": "b5e4af94",
   "metadata": {},
   "outputs": [
    {
     "name": "stdout",
     "output_type": "stream",
     "text": [
      "tensor([[ -1.2358,  -5.7104,   2.3251,  11.3267,  -9.6353,   2.8717, -11.0516,\n",
      "          -5.5867,   3.5105,   0.5494]], grad_fn=<AddmmBackward0>)\n",
      "tensor([[3.4980e-06, 3.9860e-08, 1.2312e-04, 9.9924e-01, 7.8699e-10, 2.1266e-04,\n",
      "         1.9093e-10, 4.5109e-08, 4.0283e-04, 2.0851e-05]],\n",
      "       grad_fn=<DivBackward0>)\n",
      "torch.return_types.max(\n",
      "values=tensor([11.3267], grad_fn=<MaxBackward0>),\n",
      "indices=tensor([3]))\n",
      "tensor(3)\n"
     ]
    },
    {
     "data": {
      "image/png": "[encoded data removed]",
      "text/plain": [
       "<Figure size 640x480 with 1 Axes>"
      ]
     },
     "metadata": {},
     "output_type": "display_data"
    }
   ],
   "source": [
    "import matplotlib.pyplot as plt\n",
    "\n",
    "plt.imshow(inputs[6,0])\n",
    "\n",
    "#Calculate logit \n",
    "out = net(inputs[6,0].view(-1, 28*28))\n",
    "print(out)\n",
    "#Calculate probability \n",
    "print(torch.exp(out)/torch.exp(out).sum())\n",
    "print(out.max(1))\n",
    "print(labels[6])"
   ]
  },
  {
   "cell_type": "code",
   "execution_count": 10,
   "id": "430c767b",
   "metadata": {},
   "outputs": [
    {
     "name": "stdout",
     "output_type": "stream",
     "text": [
      "tensor([[-3.9885, -4.1984,  2.4199, -3.6755, -0.2466, -1.7206,  8.0842, -3.4243,\n",
      "         -1.4848, -3.4595]], grad_fn=<AddmmBackward0>)\n",
      "tensor([[5.6917e-06, 4.6139e-06, 3.4544e-03, 7.7831e-06, 2.4007e-04, 5.4974e-05,\n",
      "         9.9614e-01, 1.0006e-05, 6.9597e-05, 9.6596e-06]],\n",
      "       grad_fn=<DivBackward0>)\n",
      "torch.return_types.max(\n",
      "values=tensor([8.0842], grad_fn=<MaxBackward0>),\n",
      "indices=tensor([6]))\n",
      "tensor(6)\n"
     ]
    },
    {
     "data": {
      "image/png": "[encoded data removed]",
      "text/plain": [
       "<Figure size 640x480 with 1 Axes>"
      ]
     },
     "metadata": {},
     "output_type": "display_data"
    }
   ],
   "source": [
    "#Try another one\n",
    "\n",
    "plt.imshow(inputs[8,0])\n",
    "out = net(inputs[8,0].view(-1, 28*28))\n",
    "print(out)\n",
    "print(torch.exp(out)/torch.exp(out).sum())\n",
    "print(out.max(1))\n",
    "print(labels[8])"
   ]
  },
  {
   "cell_type": "markdown",
   "id": "d987d789",
   "metadata": {},
   "source": [
    "### Which digits failed to get identified accurately?\n",
    "\n",
    "The test set accuracy of the network is: 95%. So find out which digits were not identified accurately."
   ]
  },
  {
   "cell_type": "code",
   "execution_count": 11,
   "id": "7cc5ce7d",
   "metadata": {},
   "outputs": [],
   "source": [
    "correct, total = 0, 0\n",
    "predictions = []\n",
    "\n",
    "#Set neural network model (net) in eval mode\n",
    "net.eval()\n",
    "\n",
    "for i, data in enumerate(test_loader):\n",
    "        inputs, labels = data\n",
    "        \n",
    "        #reading images into vectors\n",
    "        inputs = inputs.view(-1, 28*28)\n",
    "        \n",
    "        outputs = net(inputs)\n",
    "        _, outputs = torch.max(outputs.data, 1)\n",
    "        total += labels.size(0)\n",
    "        correct += (outputs == labels).sum().item()\n",
    "        if correct < total: #i is the minibatch size\n",
    "            break"
   ]
  },
  {
   "cell_type": "code",
   "execution_count": 12,
   "id": "91ba48e9",
   "metadata": {},
   "outputs": [
    {
     "data": {
      "text/plain": [
       "tensor([ True,  True, False,  True,  True,  True,  True,  True,  True,  True,\n",
       "         True,  True,  True,  True,  True,  True,  True,  True,  True,  True,\n",
       "         True,  True,  True,  True,  True,  True,  True,  True,  True,  True,\n",
       "        False,  True])"
      ]
     },
     "execution_count": 12,
     "metadata": {},
     "output_type": "execute_result"
    }
   ],
   "source": [
    "outputs == labels"
   ]
  },
  {
   "cell_type": "code",
   "execution_count": 13,
   "id": "e61c3f3d",
   "metadata": {},
   "outputs": [
    {
     "data": {
      "text/plain": [
       "tensor([2])"
      ]
     },
     "execution_count": 13,
     "metadata": {},
     "output_type": "execute_result"
    }
   ],
   "source": [
    "(outputs != labels).nonzero()[0]"
   ]
  },
  {
   "cell_type": "markdown",
   "id": "b445caa7",
   "metadata": {},
   "source": [
    "### Is it 5 or 0?"
   ]
  },
  {
   "cell_type": "code",
   "execution_count": 14,
   "id": "965f7df4",
   "metadata": {
    "scrolled": true
   },
   "outputs": [
    {
     "name": "stdout",
     "output_type": "stream",
     "text": [
      "tensor([[ 5.9977, -6.2086,  0.5503, -0.0855, -1.9357, -0.1284,  2.8294, -4.6517,\n",
      "         -1.9323, -3.3326]], grad_fn=<AddmmBackward0>)\n",
      "tensor([[9.5086e-01, 4.7532e-06, 4.0955e-03, 2.1686e-03, 3.4092e-04, 2.0777e-03,\n",
      "         4.0007e-02, 2.2550e-05, 3.4209e-04, 8.4332e-05]],\n",
      "       grad_fn=<DivBackward0>)\n",
      "torch.return_types.max(\n",
      "values=tensor([5.9977], grad_fn=<MaxBackward0>),\n",
      "indices=tensor([0]))\n",
      "tensor(5)\n"
     ]
    },
    {
     "data": {
      "image/png": "[encoded data removed]",
      "text/plain": [
       "<Figure size 640x480 with 1 Axes>"
      ]
     },
     "metadata": {},
     "output_type": "display_data"
    }
   ],
   "source": [
    "import matplotlib.pyplot as plt\n",
    "\n",
    "index = (outputs != labels).nonzero()[0,0]\n",
    "inputs, labels = data\n",
    "plt.imshow(inputs[index,0])\n",
    "out = net(inputs[index,0].view(-1, 28*28))\n",
    "print(out)\n",
    "print(torch.exp(out)/torch.exp(out).sum())\n",
    "print(out.max(1)) #Highest value in the predicted out\n",
    "print(labels[index]) #True label\n",
    " \n",
    "#nn identified 0 but the true value is 5"
   ]
  },
  {
   "cell_type": "markdown",
   "id": "ac6b42d9",
   "metadata": {},
   "source": [
    "Reference: \n",
    "\n",
    "DataCamp course: Deep Learning with PyTorch by Ismail Elezi, Hadrien Lacroix and Hillary Green-Lerman"
   ]
  }
 ],
 "metadata": {
  "kernelspec": {
   "display_name": "Python 3 (ipykernel)",
   "language": "python",
   "name": "python3"
  },
  "language_info": {
   "codemirror_mode": {
    "name": "ipython",
    "version": 3
   },
   "file_extension": ".py",
   "mimetype": "text/x-python",
   "name": "python",
   "nbconvert_exporter": "python",
   "pygments_lexer": "ipython3",
   "version": "3.10.6"
  }
 },
 "nbformat": 4,
 "nbformat_minor": 5
}
